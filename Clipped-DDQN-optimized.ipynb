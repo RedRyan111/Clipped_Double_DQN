{
 "cells": [
  {
   "cell_type": "code",
   "execution_count": 1,
   "metadata": {},
   "outputs": [],
   "source": [
    "import os"
   ]
  },
  {
   "cell_type": "code",
   "execution_count": 2,
   "metadata": {},
   "outputs": [],
   "source": [
    "path = 'C:\\\\Users\\\\raven\\\\AppData\\\\Local\\\\Packages\\\\PythonSoftwareFoundation.Python.3.7_qbz5n2kfra8p0\\\\LocalCache\\\\local-packages\\\\Python37\\\\site-packages'"
   ]
  },
  {
   "cell_type": "code",
   "execution_count": 3,
   "metadata": {},
   "outputs": [],
   "source": [
    "os.chdir(path)"
   ]
  },
  {
   "cell_type": "code",
   "execution_count": 4,
   "metadata": {},
   "outputs": [],
   "source": [
    "import torch\n",
    "import torch.nn as nn\n",
    "import torch.optim as optim\n",
    "import random\n",
    "import numpy as np\n",
    "import gym\n",
    "from collections import deque"
   ]
  },
  {
   "cell_type": "code",
   "execution_count": 5,
   "metadata": {},
   "outputs": [],
   "source": [
    "class act_model(nn.Module):\n",
    "    def __init__(self,inp,hidden,output):\n",
    "        super(act_model, self).__init__()\n",
    "        self.fc1 = nn.Linear(inp, hidden, bias=True)\n",
    "        self.fc2 = nn.Linear(hidden, hidden, bias=True)\n",
    "        self.fc3 = nn.Linear(hidden, output, bias=True)\n",
    "        self.fc12 = nn.LeakyReLU()\n",
    "        \n",
    "        self.memory = deque(maxlen=200)\n",
    "        \n",
    "        self.gamma = .95\n",
    "        self.epsilon = 1.0 #exploration rate\n",
    "        self.epsilon_min = .001\n",
    "        self.epsilon_decay = .995\n",
    "        self.tau = .01\n",
    "        \n",
    "        self.mse = nn.MSELoss()\n",
    "        self.optimizer = optim.Adam(self.parameters(),lr=.001)\n",
    "        \n",
    "    def action(self,state):\n",
    "        #choose action with probability\n",
    "        if(random.random() <= self.epsilon):\n",
    "            return np.random.choice(out, 1)[0]\n",
    "        else:\n",
    "            q_values = self.forward(state)\n",
    "            return np.argmax(q_values.detach().numpy())  #Q(s,a)\n",
    "            \n",
    "    def memorize(self,state,action,reward,next_state,done):\n",
    "        self.memory.append((state,action,reward,next_state,done))\n",
    "        \n",
    "    def replay(self,batch_size,target_model):\n",
    "        if(len(self.memory) < batch_size): return 0 \n",
    "        minibatch = random.sample(self.memory,batch_size)\n",
    "        for state,action,reward,next_state,done in minibatch:\n",
    "            target = reward\n",
    "            if not done:\n",
    "                target_q_values = target_model.forward(next_state)\n",
    "                primary_q_values = self.forward(next_state)\n",
    "                \n",
    "                max_target_action = np.argmax(target_q_values.detach().numpy())\n",
    "                primary_q_value = primary_q_values[max_target_action]\n",
    "                target_q_value = primary_q_values[max_target_action]\n",
    "                \n",
    "                min_action = min(primary_q_value,target_q_value)\n",
    "                \n",
    "                target = (reward + self.gamma*min_action)\n",
    "                \n",
    "            target_f = self.forward(state)\n",
    "            target_f[action] = target\n",
    "            target_g = self.forward(state)\n",
    "\n",
    "            self.zero_grad()\n",
    "            self.optimizer.zero_grad()\n",
    "            \n",
    "            loss = self.mse(target_g,target_f)\n",
    "            loss.backward(retain_graph=True)\n",
    "            self.optimizer.step() \n",
    "        \n",
    "            # target network update\n",
    "            for target_param, param in zip(target_model.parameters(), self.parameters()):\n",
    "                target_param.data.copy_(self.tau * param + (1 - self.tau) * target_param)\n",
    "        \n",
    "        if self.epsilon > self.epsilon_min:\n",
    "            self.epsilon *= self.epsilon_decay\n",
    "            \n",
    "    def load(self,PATH):\n",
    "        torch.save(self, PATH)\n",
    "\n",
    "    def save(self,PATH):\n",
    "        model = torch.load(PATH)\n",
    "        return model\n",
    "        \n",
    "    def forward(self,x):\n",
    "        out = self.fc12(self.fc1(x))\n",
    "        out = self.fc12(self.fc2(out))\n",
    "        out = self.fc3(out)\n",
    "        \n",
    "        return out"
   ]
  },
  {
   "cell_type": "code",
   "execution_count": 6,
   "metadata": {},
   "outputs": [
    {
     "name": "stdout",
     "output_type": "stream",
     "text": [
      "episode: 1/2000, score: 163, e: 0.21\n",
      "episode: 2/2000, score: 189, e: 0.08\n",
      "episode: 4/2000, score: 154, e: 0.013\n",
      "episode: 6/2000, score: 99, e: 0.003\n",
      "episode: 8/2000, score: 105, e: 0.001\n",
      "episode: 9/2000, score: 107, e: 0.001\n",
      "episode: 11/2000, score: 102, e: 0.001\n",
      "episode: 12/2000, score: 176, e: 0.001\n",
      "episode: 13/2000, score: 170, e: 0.001\n",
      "episode: 14/2000, score: 95, e: 0.001\n",
      "episode: 16/2000, score: 87, e: 0.001\n",
      "episode: 18/2000, score: 122, e: 0.001\n",
      "episode: 19/2000, score: 141, e: 0.001\n",
      "episode: 21/2000, score: 125, e: 0.001\n",
      "episode: 23/2000, score: 103, e: 0.001\n",
      "episode: 25/2000, score: 85, e: 0.001\n",
      "episode: 26/2000, score: 116, e: 0.001\n",
      "episode: 27/2000, score: 128, e: 0.001\n",
      "episode: 28/2000, score: 152, e: 0.001\n",
      "episode: 29/2000, score: 115, e: 0.001\n",
      "episode: 30/2000, score: 122, e: 0.001\n",
      "episode: 32/2000, score: 117, e: 0.001\n",
      "episode: 34/2000, score: 96, e: 0.001\n"
     ]
    },
    {
     "ename": "KeyboardInterrupt",
     "evalue": "",
     "output_type": "error",
     "traceback": [
      "\u001b[1;31m---------------------------------------------------------------------------\u001b[0m",
      "\u001b[1;31mKeyboardInterrupt\u001b[0m                         Traceback (most recent call last)",
      "\u001b[1;32m<ipython-input-6-80e56fab62b4>\u001b[0m in \u001b[0;36m<module>\u001b[1;34m\u001b[0m\n\u001b[0;32m     22\u001b[0m         \u001b[0mstate\u001b[0m \u001b[1;33m=\u001b[0m \u001b[0mnext_state\u001b[0m\u001b[1;33m\u001b[0m\u001b[1;33m\u001b[0m\u001b[0m\n\u001b[0;32m     23\u001b[0m \u001b[1;33m\u001b[0m\u001b[0m\n\u001b[1;32m---> 24\u001b[1;33m         \u001b[0mprimary_model\u001b[0m\u001b[1;33m.\u001b[0m\u001b[0mreplay\u001b[0m\u001b[1;33m(\u001b[0m\u001b[0mbatch_size\u001b[0m\u001b[1;33m,\u001b[0m\u001b[0mtarget_model\u001b[0m\u001b[1;33m)\u001b[0m\u001b[1;33m\u001b[0m\u001b[1;33m\u001b[0m\u001b[0m\n\u001b[0m\u001b[0;32m     25\u001b[0m \u001b[1;33m\u001b[0m\u001b[0m\n\u001b[0;32m     26\u001b[0m         \u001b[1;32mif\u001b[0m \u001b[0mdone\u001b[0m\u001b[1;33m:\u001b[0m\u001b[1;33m\u001b[0m\u001b[1;33m\u001b[0m\u001b[0m\n",
      "\u001b[1;32m<ipython-input-5-48569e4637fc>\u001b[0m in \u001b[0;36mreplay\u001b[1;34m(self, batch_size, target_model)\u001b[0m\n\u001b[0;32m     54\u001b[0m \u001b[1;33m\u001b[0m\u001b[0m\n\u001b[0;32m     55\u001b[0m             \u001b[0mloss\u001b[0m \u001b[1;33m=\u001b[0m \u001b[0mself\u001b[0m\u001b[1;33m.\u001b[0m\u001b[0mmse\u001b[0m\u001b[1;33m(\u001b[0m\u001b[0mtarget_g\u001b[0m\u001b[1;33m,\u001b[0m\u001b[0mtarget_f\u001b[0m\u001b[1;33m)\u001b[0m\u001b[1;33m\u001b[0m\u001b[1;33m\u001b[0m\u001b[0m\n\u001b[1;32m---> 56\u001b[1;33m             \u001b[0mloss\u001b[0m\u001b[1;33m.\u001b[0m\u001b[0mbackward\u001b[0m\u001b[1;33m(\u001b[0m\u001b[0mretain_graph\u001b[0m\u001b[1;33m=\u001b[0m\u001b[1;32mTrue\u001b[0m\u001b[1;33m)\u001b[0m\u001b[1;33m\u001b[0m\u001b[1;33m\u001b[0m\u001b[0m\n\u001b[0m\u001b[0;32m     57\u001b[0m             \u001b[0mself\u001b[0m\u001b[1;33m.\u001b[0m\u001b[0moptimizer\u001b[0m\u001b[1;33m.\u001b[0m\u001b[0mstep\u001b[0m\u001b[1;33m(\u001b[0m\u001b[1;33m)\u001b[0m\u001b[1;33m\u001b[0m\u001b[1;33m\u001b[0m\u001b[0m\n\u001b[0;32m     58\u001b[0m \u001b[1;33m\u001b[0m\u001b[0m\n",
      "\u001b[1;32m~\\torch\\tensor.py\u001b[0m in \u001b[0;36mbackward\u001b[1;34m(self, gradient, retain_graph, create_graph)\u001b[0m\n\u001b[0;32m    193\u001b[0m                 \u001b[0mproducts\u001b[0m\u001b[1;33m.\u001b[0m \u001b[0mDefaults\u001b[0m \u001b[0mto\u001b[0m\u001b[0;31m \u001b[0m\u001b[0;31m`\u001b[0m\u001b[0;31m`\u001b[0m\u001b[1;32mFalse\u001b[0m\u001b[0;31m`\u001b[0m\u001b[0;31m`\u001b[0m\u001b[1;33m.\u001b[0m\u001b[1;33m\u001b[0m\u001b[1;33m\u001b[0m\u001b[0m\n\u001b[0;32m    194\u001b[0m         \"\"\"\n\u001b[1;32m--> 195\u001b[1;33m         \u001b[0mtorch\u001b[0m\u001b[1;33m.\u001b[0m\u001b[0mautograd\u001b[0m\u001b[1;33m.\u001b[0m\u001b[0mbackward\u001b[0m\u001b[1;33m(\u001b[0m\u001b[0mself\u001b[0m\u001b[1;33m,\u001b[0m \u001b[0mgradient\u001b[0m\u001b[1;33m,\u001b[0m \u001b[0mretain_graph\u001b[0m\u001b[1;33m,\u001b[0m \u001b[0mcreate_graph\u001b[0m\u001b[1;33m)\u001b[0m\u001b[1;33m\u001b[0m\u001b[1;33m\u001b[0m\u001b[0m\n\u001b[0m\u001b[0;32m    196\u001b[0m \u001b[1;33m\u001b[0m\u001b[0m\n\u001b[0;32m    197\u001b[0m     \u001b[1;32mdef\u001b[0m \u001b[0mregister_hook\u001b[0m\u001b[1;33m(\u001b[0m\u001b[0mself\u001b[0m\u001b[1;33m,\u001b[0m \u001b[0mhook\u001b[0m\u001b[1;33m)\u001b[0m\u001b[1;33m:\u001b[0m\u001b[1;33m\u001b[0m\u001b[1;33m\u001b[0m\u001b[0m\n",
      "\u001b[1;32m~\\torch\\autograd\\__init__.py\u001b[0m in \u001b[0;36mbackward\u001b[1;34m(tensors, grad_tensors, retain_graph, create_graph, grad_variables)\u001b[0m\n\u001b[0;32m     97\u001b[0m     Variable._execution_engine.run_backward(\n\u001b[0;32m     98\u001b[0m         \u001b[0mtensors\u001b[0m\u001b[1;33m,\u001b[0m \u001b[0mgrad_tensors\u001b[0m\u001b[1;33m,\u001b[0m \u001b[0mretain_graph\u001b[0m\u001b[1;33m,\u001b[0m \u001b[0mcreate_graph\u001b[0m\u001b[1;33m,\u001b[0m\u001b[1;33m\u001b[0m\u001b[1;33m\u001b[0m\u001b[0m\n\u001b[1;32m---> 99\u001b[1;33m         allow_unreachable=True)  # allow_unreachable flag\n\u001b[0m\u001b[0;32m    100\u001b[0m \u001b[1;33m\u001b[0m\u001b[0m\n\u001b[0;32m    101\u001b[0m \u001b[1;33m\u001b[0m\u001b[0m\n",
      "\u001b[1;31mKeyboardInterrupt\u001b[0m: "
     ]
    }
   ],
   "source": [
    "inp = 4\n",
    "hid = 24\n",
    "out = 2\n",
    "primary_model = act_model(inp,hid,out)\n",
    "target_model = act_model(inp,hid,out)\n",
    "\n",
    "env = gym.make('CartPole-v0')\n",
    "epochs = 2000\n",
    "batch_size = 50\n",
    "\n",
    "for epoch in range(epochs):\n",
    "    state = env.reset()\n",
    "    for t in range(200):\n",
    "        state = torch.FloatTensor(state)\n",
    "        action = primary_model.action(state)\n",
    "        next_state, reward, done, info = env.step(action)\n",
    "        reward = reward if not done else -10\n",
    "        \n",
    "        next_state = torch.FloatTensor(next_state)\n",
    "        primary_model.memorize(state,action,reward,next_state,done)\n",
    "        state = next_state\n",
    "        \n",
    "        primary_model.replay(batch_size,target_model)\n",
    "\n",
    "        if done:\n",
    "            print(\"episode: {}/{}, score: {}, e: {:.2}\"\n",
    "                  .format(epoch, epochs, t, primary_model.epsilon))\n",
    "            break   \n",
    "env.close()"
   ]
  },
  {
   "cell_type": "code",
   "execution_count": null,
   "metadata": {},
   "outputs": [],
   "source": []
  }
 ],
 "metadata": {
  "kernelspec": {
   "display_name": "Python 3",
   "language": "python",
   "name": "python3"
  },
  "language_info": {
   "codemirror_mode": {
    "name": "ipython",
    "version": 3
   },
   "file_extension": ".py",
   "mimetype": "text/x-python",
   "name": "python",
   "nbconvert_exporter": "python",
   "pygments_lexer": "ipython3",
   "version": "3.7.4"
  }
 },
 "nbformat": 4,
 "nbformat_minor": 2
}
